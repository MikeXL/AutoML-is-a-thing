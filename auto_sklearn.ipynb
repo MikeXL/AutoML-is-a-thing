{
  "nbformat": 4,
  "nbformat_minor": 0,
  "metadata": {
    "colab": {
      "name": "auto-sklearn.ipynb",
      "version": "0.3.2",
      "provenance": [],
      "include_colab_link": true
    },
    "kernelspec": {
      "name": "python3",
      "display_name": "Python 3"
    }
  },
  "cells": [
    {
      "cell_type": "markdown",
      "metadata": {
        "id": "view-in-github",
        "colab_type": "text"
      },
      "source": [
        "<a href=\"https://colab.research.google.com/github/MikeXL/AutoML-is-a-thing/blob/master/auto_sklearn.ipynb\" target=\"_parent\"><img src=\"https://colab.research.google.com/assets/colab-badge.svg\" alt=\"Open In Colab\"/></a>"
      ]
    },
    {
      "metadata": {
        "id": "jaIe3fA_59Kr",
        "colab_type": "code",
        "colab": {}
      },
      "cell_type": "code",
      "source": [
        "!apt-get install build-essential swig"
      ],
      "execution_count": 0,
      "outputs": []
    },
    {
      "metadata": {
        "id": "VF4KXe8v3Dxg",
        "colab_type": "code",
        "colab": {}
      },
      "cell_type": "code",
      "source": [
        "!curl https://raw.githubusercontent.com/automl/auto-sklearn/master/requirements.txt | xargs -n 1 -L 1 pip install"
      ],
      "execution_count": 0,
      "outputs": []
    },
    {
      "metadata": {
        "id": "ptE3GiMz3zay",
        "colab_type": "code",
        "colab": {}
      },
      "cell_type": "code",
      "source": [
        "!pip install auto-sklearn"
      ],
      "execution_count": 0,
      "outputs": []
    },
    {
      "metadata": {
        "id": "eqlJB3Bb3JXm",
        "colab_type": "code",
        "colab": {}
      },
      "cell_type": "code",
      "source": [
        "from sklearn import datasets\n",
        "import sklearn\n",
        "import autosklearn.classification\n",
        "import matplotlib\n",
        "import matplotlib.pyplot as plt\n",
        "\n",
        "wine = datasets.load_wine()"
      ],
      "execution_count": 0,
      "outputs": []
    },
    {
      "metadata": {
        "id": "NzsU13nT4N-V",
        "colab_type": "code",
        "colab": {}
      },
      "cell_type": "code",
      "source": [
        " X_train, X_test, y_train, y_test = \\\n",
        "        sklearn.model_selection.train_test_split(wine.data, wine.target, random_state=1)\n",
        "\n",
        "automl = autosklearn.classification.AutoSklearnClassifier(\n",
        "        time_left_for_this_task=120,\n",
        "        per_run_time_limit=30,\n",
        "        tmp_folder='/tmp/autosklearn_cv_example_tmp',\n",
        "        output_folder='/tmp/autosklearn_cv_example_out',\n",
        "        delete_tmp_folder_after_terminate=False,\n",
        "        resampling_strategy='cv',\n",
        "        resampling_strategy_arguments={'folds': 5},\n",
        "    )\n",
        "\n",
        "    # fit() changes the data in place, but refit needs the original data. We\n",
        "    # therefore copy the data. In practice, one should reload the data\n",
        "automl.fit(X_train.copy(), y_train.copy(), dataset_name='digits')\n",
        "    # During fit(), models are fit on individual cross-validation folds. To use\n",
        "    # all available data, we call refit() which trains all models in the\n",
        "    # final ensemble on the whole dataset.\n",
        "automl.refit(X_train.copy(), y_train.copy())\n",
        "\n",
        "print(automl.show_models())\n",
        "\n",
        "predictions = automl.predict(X_test)\n",
        "print(\"Accuracy score\", sklearn.metrics.accuracy_score(y_test, predictions))"
      ],
      "execution_count": 0,
      "outputs": []
    },
    {
      "metadata": {
        "id": "zVu1ozv6J17m",
        "colab_type": "code",
        "colab": {
          "base_uri": "https://localhost:8080/",
          "height": 187
        },
        "outputId": "245f7d75-b75d-4051-80f8-e987eb101294"
      },
      "cell_type": "code",
      "source": [
        "print(automl.sprint_statistics())\n"
      ],
      "execution_count": 14,
      "outputs": [
        {
          "output_type": "stream",
          "text": [
            "auto-sklearn results:\n",
            "  Dataset name: digits\n",
            "  Metric: accuracy\n",
            "  Best validation score: 0.992481\n",
            "  Number of target algorithm runs: 28\n",
            "  Number of successful target algorithm runs: 26\n",
            "  Number of crashed target algorithm runs: 1\n",
            "  Number of target algorithms that exceeded the time limit: 1\n",
            "  Number of target algorithms that exceeded the memory limit: 0\n",
            "\n"
          ],
          "name": "stdout"
        }
      ]
    },
    {
      "metadata": {
        "id": "qKMP2glqLYXp",
        "colab_type": "code",
        "colab": {}
      },
      "cell_type": "code",
      "source": [
        "import pandas as pd"
      ],
      "execution_count": 0,
      "outputs": []
    },
    {
      "metadata": {
        "id": "tUICgRRSJ7SX",
        "colab_type": "code",
        "colab": {}
      },
      "cell_type": "code",
      "source": [
        "pd_cv = pd.DataFrame.from_dict(automl.cv_results_)"
      ],
      "execution_count": 0,
      "outputs": []
    },
    {
      "metadata": {
        "id": "CCiOCJRkLZih",
        "colab_type": "code",
        "colab": {}
      },
      "cell_type": "code",
      "source": [
        "pd_cv.head"
      ],
      "execution_count": 0,
      "outputs": []
    },
    {
      "metadata": {
        "id": "6a5gX4kVMYvz",
        "colab_type": "code",
        "colab": {}
      },
      "cell_type": "code",
      "source": [
        ""
      ],
      "execution_count": 0,
      "outputs": []
    }
  ]
}